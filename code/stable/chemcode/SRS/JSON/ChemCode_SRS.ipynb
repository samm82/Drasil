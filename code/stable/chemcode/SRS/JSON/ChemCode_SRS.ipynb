{
 "cells": [
  {
   "cell_type": "markdown",
   "metadata": {},
   "source": [
    "# Software Requirements Specification for ChemCode\n",
    "## Samuel J. Crawford\n",
    "\n"
   ]
  },
  {
   "cell_type": "markdown",
   "metadata": {},
   "source": [
    "\n",
    "# Table of Contents\n",
    "<a id=\"Sec:ToC\"></a>\n",
    "\n",
    "An outline of all sections included in this SRS is recorded here for easy reference.\n",
    "\n",
    "- [Table of Contents](#Sec:ToC)\n",
    "- [Introduction](#Sec:Intro)\n",
    " - [Scope of Requirements](#Sec:ReqsScope)\n",
    "\n",
    "# Introduction\n",
    "<a id=\"Sec:Intro\"></a>\n",
    "\n",
    "Chemical equations are common ways of representing chemical reactions. The program documented here is called ChemCode.\n",
    "\n",
    "The following section provides an overview of the Software Requirements Specification (SRS) for ChemCode. This section explains the purpose of this document, the scope of the requirements, the characteristics of the intended reader, and the organization of the document.\n",
    "\n",
    "## Scope of Requirements\n",
    "<a id=\"Sec:ReqsScope\"></a>\n",
    "\n",
    "The scope of the requirements includes all chemical equations with at most one more compound than element.\n",
    "\n"
   ]
  }
 ],
 "metadata": {
  "kernelspec": {
   "display_name": "Python 3",
   "language": "python",
   "name": "python3"
  },
  "language_info": {
   "codemirror_mode": {
    "name": "ipython",
    "version": 3
   },
   "file_extension": ".py",
   "mimetype": "text/x-python",
   "name": "python",
   "nbconvert_exporter": "python",
   "pygments_lexer": "ipython3",
   "version": "3.9.1"
  }
 },
 "nbformat": 4,
 "nbformat_minor": 4
}
